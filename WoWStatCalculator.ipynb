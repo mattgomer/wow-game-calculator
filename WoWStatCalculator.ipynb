{
 "cells": [
  {
   "cell_type": "code",
   "execution_count": 1,
   "id": "d68bbfaa-9647-4024-af1d-d96865ad3aea",
   "metadata": {
    "tags": []
   },
   "outputs": [],
   "source": [
    "import numpy as np\n",
    "import copy\n",
    "import matplotlib.pyplot as plt\n"
   ]
  },
  {
   "cell_type": "code",
   "execution_count": 2,
   "id": "4a7d32e4-3401-4210-b46c-76766145ad43",
   "metadata": {
    "tags": []
   },
   "outputs": [],
   "source": [
    "\n",
    "class DruidStatCalculator():\n",
    "    def __init__(self,current_stats):\n",
    "        self.old_stats=current_stats\n",
    "        self.current_stats=current_stats\n",
    "        self.current_damage=self.overall_damage(current_stats)\n",
    "        self.new_stats=copy.copy(self.current_stats)\n",
    "\n",
    "    def ArP_multiplier(self,stats, FF=True, sunder=False, mob_armor=10643):\n",
    "        armor_pen=stats['Armor Pen']\n",
    "        if FF:\n",
    "            mob_armor*=0.95\n",
    "        if sunder:\n",
    "            mob_armor*=0.8\n",
    "        armor_constant=15232.5\n",
    "        ArP_eff_cap=(armor_constant+mob_armor)/3\n",
    "        armor_removed=min(ArP_eff_cap*armor_pen/1400,ArP_eff_cap)\n",
    "        remaining_armor=mob_armor-armor_removed\n",
    "        frac_damage_taken=armor_constant/(armor_constant+remaining_armor)\n",
    "        default_damage_taken=armor_constant/(armor_constant+mob_armor)\n",
    "        multiplier=frac_damage_taken/default_damage_taken\n",
    "        return multiplier\n",
    "\n",
    "    def hit_multiplier(self, stats, draenei_in_party=True):\n",
    "        hit_rating=stats['Hit Rating']\n",
    "        hit_chance=0.92\n",
    "        if draenei_in_party:\n",
    "            hit_chance+=0.01\n",
    "        hit_chance+=hit_rating/32.79/100\n",
    "        return min(hit_chance,1)\n",
    "\n",
    "    def expertise_multiplier(self, stats, primal_precision=True):\n",
    "        expertise_rating = stats['Expertise Rating']\n",
    "        land_chance=0.92\n",
    "        if primal_precision:\n",
    "            land_chance+=0.04\n",
    "        land_chance+=expertise_rating/32.79/100\n",
    "        return min(land_chance,1)\n",
    "\n",
    "    def crit_multiplier(self, stats, crit_value=2.5):\n",
    "        crit_chance = stats['Crit Chance']\n",
    "        #crits actually only do 2.2x damage, but I've set this slightly higher to subjectively account for extra combo points\n",
    "        crit_chance=min(crit_chance,1)\n",
    "        return crit_chance*crit_value+(1-crit_chance)\n",
    "    \n",
    "    def haste_multiplier(self, stats, melee_fraction=0.3):\n",
    "        #assume melee_fraction of damage comes from auto attacks (based on logs I think it's around 30%)\n",
    "        haste_speedup=stats['Haste Rating']/25.25/100\n",
    "        attack_speed_time=(1-haste_speedup)\n",
    "        percent_damage_increase=(1/attack_speed_time)-1\n",
    "        return 1+percent_damage_increase*melee_fraction\n",
    "    \n",
    "    def overall_multiplier(self, stats):\n",
    "        return self.ArP_multiplier(stats)*self.hit_multiplier(stats)*self.expertise_multiplier(stats)*self.crit_multiplier(stats)*self.haste_multiplier(stats)\n",
    "\n",
    "    def overall_damage(self, stats):\n",
    "        return self.overall_multiplier(stats)*stats['Attack Power']\n",
    "    \n",
    "    def modify_stats(self, stat_changes, hotw=1.1893):\n",
    "        #assumes heart of the wild and blessing of kings\n",
    "        self.reset_stats()\n",
    "        self.new_stats['Attack Power']+= 2*hotw*stat_changes['Strength'] + hotw*stat_changes['Agility'] + stat_changes['Attack Power']\n",
    "        self.new_stats['Armor Pen'] += stat_changes['Armor Pen']\n",
    "        self.new_stats['Hit Rating'] += stat_changes['Hit Rating']\n",
    "        self.new_stats['Expertise Rating'] += stat_changes['Expertise Rating']\n",
    "        self.new_stats['Crit Chance'] += stat_changes['Crit Rating']/45.91/100 + hotw*stat_changes['Agility']/83.33/100\n",
    "        self.new_stats['Haste Rating'] += stat_changes['Haste Rating']\n",
    "\n",
    "    def damage_change(self,stat_changes):\n",
    "        self.modify_stats(stat_changes)\n",
    "        return self.overall_damage(self.new_stats)/self.current_damage\n",
    "    \n",
    "    def best_stat(self,change_amount=20):\n",
    "        no_changes={\n",
    "            'Agility' : 0,\n",
    "            'Strength' : 0,\n",
    "            'Armor Pen' : 0,\n",
    "            'Hit Rating' : 0,\n",
    "            'Expertise Rating' : 0,\n",
    "            'Crit Rating': 0,\n",
    "            'Haste Rating': 0,\n",
    "            'Attack Power' : 0}\n",
    "        corresponding_damages=[]\n",
    "        stat_names=[]\n",
    "        for stat in no_changes:\n",
    "            stat_names.append(stat)\n",
    "            test_change=copy.copy(no_changes)\n",
    "            test_change[stat]+=change_amount\n",
    "            corresponding_damages.append(self.damage_change(test_change))\n",
    "        return np.array(stat_names)[corresponding_damages==np.max(corresponding_damages)][0] \n",
    "    \n",
    "    \n",
    "            \n",
    "    def reset_stats(self):\n",
    "        self.current_stats=copy.copy(self.old_stats)\n",
    "        self.new_stats=copy.copy(self.old_stats)\n",
    "    \n",
    "    def stat_priority(self,factor_desired=1.005,maxcheck=1000,normalize=True):\n",
    "        no_changes={\n",
    "            'Agility' : 0,\n",
    "            'Strength' : 0,\n",
    "            'Armor Pen' : 0,\n",
    "            'Hit Rating' : 0,\n",
    "            'Expertise Rating' : 0,\n",
    "            'Crit Rating': 0,\n",
    "            'Haste Rating': 0,\n",
    "            'Attack Power' : 0}\n",
    "        stat_names=[]\n",
    "        weights=[]\n",
    "        for stat in no_changes:\n",
    "            #check how much of each stat is necessary to reach factor_desired. Inverse of this is the weight.\n",
    "            stat_names.append(stat)\n",
    "            test_change=copy.copy(no_changes)\n",
    "            corresponding_damage=1.0\n",
    "            while corresponding_damage<factor_desired:\n",
    "                test_change[stat]+=1\n",
    "                corresponding_damage=self.damage_change(test_change)\n",
    "                weight=1/test_change[stat]\n",
    "                if test_change[stat]>=maxcheck:\n",
    "                    weight=0\n",
    "                    break\n",
    "            weights.append(weight)\n",
    "        stat_names=np.array(stat_names)\n",
    "        weights=np.array(weights)\n",
    "        weights=weights/weights[stat_names=='Attack Power']\n",
    "        return dict(zip(stat_names,weights))\n",
    "    \n",
    "    \n",
    "    def plot_stat_prio(self,ax):\n",
    "        stat_prio=self.stat_priority()\n",
    "        stat_names = list(stat_prio.keys())\n",
    "        weights = list(stat_prio.values())\n",
    "\n",
    "        # Create bar plot\n",
    "        ax.bar(stat_names, weights)\n",
    "\n",
    "        # Adding titles and labels\n",
    "        # plt.xlabel('Stat')\n",
    "        ax.set_ylabel('Weights')\n",
    "        ax.set_title('Stat Priority')\n",
    "        ax.tick_params(axis='x', rotation=80)\n",
    "        # plt.show()\n",
    "    \n",
    "    def update_stats(self,stats):\n",
    "        self.__init__(stats)\n",
    "        \n",
    "        \n",
    "        \n"
   ]
  },
  {
   "cell_type": "code",
   "execution_count": 3,
   "id": "2230c3d9-058d-4835-aeee-be149a4e2a76",
   "metadata": {
    "tags": []
   },
   "outputs": [
    {
     "name": "stdout",
     "output_type": "stream",
     "text": [
      "Percent damage change from stat change:\n",
      "5.25 %\n",
      "1.0135347682119205\n"
     ]
    }
   ],
   "source": [
    "stat_changes={\n",
    "    'Agility' : -67,\n",
    "    'Strength' : 84,\n",
    "    'Armor Pen' : 25,\n",
    "    'Hit Rating' : 45,\n",
    "    'Expertise Rating' : 0,\n",
    "    'Crit Rating': -38,\n",
    "    'Haste Rating': 0,\n",
    "    'Attack Power' : -89}\n",
    "\n",
    "stat_changes={\n",
    "    'Agility' : 1,\n",
    "    'Strength' : 0,\n",
    "    'Armor Pen' : 102,\n",
    "    'Hit Rating' : -74,\n",
    "    'Expertise Rating' : 0,\n",
    "    'Crit Rating': -91,\n",
    "    'Haste Rating': 90,\n",
    "    'Attack Power' : 12+187*1.1}\n",
    "\n",
    "current_stats={\n",
    "    'Armor Pen' : 639,\n",
    "    'Hit Rating' : 360,\n",
    "    'Expertise Rating' : 10,\n",
    "    'Attack Power' : 8435,\n",
    "    'Crit Chance': 0.6200,\n",
    "    'Haste Rating': 109}\n",
    "\n",
    "calc=DruidStatCalculator(current_stats)\n",
    "print('Percent damage change from stat change:')\n",
    "percent_change=(calc.damage_change(stat_changes)-1)*100\n",
    "print(f'{percent_change:.2f} %')\n",
    "print(calc.haste_multiplier(current_stats))\n",
    "\n"
   ]
  },
  {
   "cell_type": "code",
   "execution_count": 4,
   "id": "c0e46d52-6c47-4b8f-a8e3-3e8675450538",
   "metadata": {
    "tags": []
   },
   "outputs": [
    {
     "name": "stdout",
     "output_type": "stream",
     "text": [
      "Unbuffed best stat:  Expertise Rating\n",
      "On trinket procs best stat:  Expertise Rating\n",
      "If all proc together, damage increases by 67.25 %\n"
     ]
    },
    {
     "data": {
      "image/png": "[encoded data removed]",
      "text/plain": [
       "<Figure size 1000x600 with 2 Axes>"
      ]
     },
     "metadata": {},
     "output_type": "display_data"
    }
   ],
   "source": [
    "#compare stat priority with and without trinket procs\n",
    "calc.update_stats(current_stats)\n",
    "print('Unbuffed best stat: ', calc.best_stat())\n",
    "f,ax=plt.subplots(1,2,figsize=(10,6))\n",
    "calc.plot_stat_prio(ax=ax[0])\n",
    "unbuffed_damage=calc.current_damage\n",
    "ax[0].set_title('Unbuffed')\n",
    "\n",
    "procs={\n",
    "    'Agility' : 650, #idol of mutilation + death's verdict\n",
    "    'Strength' : 0,\n",
    "    'Armor Pen' : 751, #mjolnir runestone\n",
    "    'Hit Rating' : 0,\n",
    "    'Expertise Rating' : 0,\n",
    "    'Crit Rating': 0,\n",
    "    'Haste Rating': 500, #potion of speed\n",
    "    'Attack Power' : 400} #berserking enchant\n",
    "\n",
    "calc.modify_stats(procs)\n",
    "procced_stats=calc.new_stats\n",
    "calc.update_stats(procced_stats)\n",
    "trinket_damage=calc.current_damage\n",
    "\n",
    "print('On trinket procs best stat: ', calc.best_stat())\n",
    "print(f'If all proc together, damage increases by {(trinket_damage/unbuffed_damage-1)*100:.2f} %')\n",
    "# print(calc.stat_priority())\n",
    "calc.plot_stat_prio(ax=ax[1])\n",
    "ax[1].set_title('On trinket+potion procs')\n",
    "plt.show()"
   ]
  },
  {
   "cell_type": "code",
   "execution_count": 5,
   "id": "def261f1-ce55-40c8-b08b-8084fc2041dd",
   "metadata": {
    "tags": []
   },
   "outputs": [
    {
     "name": "stdout",
     "output_type": "stream",
     "text": [
      "{'Agility': 1.3115, 'Strength': 1.4572222222222222, 'Armor Pen': 1.4572222222222222, 'Hit Rating': 0.0, 'Expertise Rating': 1.639375, 'Crit Rating': 0.8743333333333333, 'Haste Rating': 0.6725641025641026, 'Attack Power': 0.61}\n"
     ]
    }
   ],
   "source": [
    "#normalized by factor of 0.61 for pawn addon\n",
    "calc.update_stats(current_stats)\n",
    "weights=[value*0.61 for value in list(calc.stat_priority().values())]\n",
    "stat_names=list(calc.stat_priority().keys())\n",
    "print(dict(zip(stat_names,weights)))"
   ]
  },
  {
   "cell_type": "code",
   "execution_count": null,
   "id": "f913d9a1-fa28-4162-99ad-960659640e0b",
   "metadata": {},
   "outputs": [],
   "source": []
  }
 ],
 "metadata": {
  "kernelspec": {
   "display_name": "tf_metal",
   "language": "python",
   "name": "tf_metal"
  },
  "language_info": {
   "codemirror_mode": {
    "name": "ipython",
    "version": 3
   },
   "file_extension": ".py",
   "mimetype": "text/x-python",
   "name": "python",
   "nbconvert_exporter": "python",
   "pygments_lexer": "ipython3",
   "version": "3.11.4"
  }
 },
 "nbformat": 4,
 "nbformat_minor": 5
}
